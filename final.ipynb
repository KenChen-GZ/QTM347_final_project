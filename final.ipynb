{
 "cells": [
  {
   "cell_type": "code",
   "execution_count": 1,
   "metadata": {},
   "outputs": [],
   "source": [
    "from ucimlrepo import fetch_ucirepo \n",
    "  \n",
    "# fetch dataset \n",
    "polish_companies_bankruptcy = fetch_ucirepo(id=365) \n",
    "  \n",
    "# data (as pandas dataframes) \n",
    "X = polish_companies_bankruptcy.data.features \n",
    "y = polish_companies_bankruptcy.data.targets \n",
    "  "
   ]
  },
  {
   "cell_type": "code",
   "execution_count": 4,
   "metadata": {},
   "outputs": [],
   "source": [
    "import warnings\n",
    "warnings.filterwarnings('ignore')\n",
    "import pandas as pd"
   ]
  },
  {
   "cell_type": "code",
   "execution_count": 5,
   "metadata": {},
   "outputs": [],
   "source": [
    "df = pd.concat([X, y], axis=1)\n",
    "df = df.dropna()\n",
    "X = df.drop('class', axis=1)\n",
    "y = df[\"class\"]"
   ]
  },
  {
   "cell_type": "code",
   "execution_count": 6,
   "metadata": {},
   "outputs": [],
   "source": [
    "X_train = X[X['year'].isin([1, 2, 3, 4])]\n",
    "X_test = X[X['year']==5]\n",
    "y_train = y.iloc[:len(X_train)]\n",
    "y_test = y.tail(len(X_test))"
   ]
  },
  {
   "cell_type": "code",
   "execution_count": 7,
   "metadata": {},
   "outputs": [],
   "source": [
    "import numpy as np\n",
    "import time\n",
    "from sklearn.linear_model import LogisticRegression\n",
    "from sklearn.metrics import accuracy_score\n"
   ]
  },
  {
   "cell_type": "code",
   "execution_count": 8,
   "metadata": {},
   "outputs": [
    {
     "name": "stdout",
     "output_type": "stream",
     "text": [
      "0.03365225998020455\n"
     ]
    }
   ],
   "source": [
    "glm_fit = LogisticRegression().fit(X_train, y_train)\n",
    "\n",
    "logit_pr = glm_fit.predict_proba(X_test)[:, 1]\n",
    "logit_est = np.where(logit_pr > 0.5, 1, 0)\n",
    "\n",
    "misclassification_error = np.mean(logit_est != y_test)\n",
    "print(misclassification_error)"
   ]
  },
  {
   "cell_type": "code",
   "execution_count": 9,
   "metadata": {},
   "outputs": [
    {
     "name": "stdout",
     "output_type": "stream",
     "text": [
      "Processed  65 models on 1 predictors in 2.5166401863098145 seconds.\n",
      "Processed  64 models on 2 predictors in 9.600405931472778 seconds.\n",
      "Processed  63 models on 3 predictors in 9.993138790130615 seconds.\n",
      "Processed  62 models on 4 predictors in 12.689826965332031 seconds.\n",
      "Processed  61 models on 5 predictors in 13.63638710975647 seconds.\n",
      "Processed  60 models on 6 predictors in 13.936256885528564 seconds.\n",
      "Processed  59 models on 7 predictors in 15.975390195846558 seconds.\n",
      "Processed  58 models on 8 predictors in 12.820421934127808 seconds.\n",
      "Processed  57 models on 9 predictors in 14.159792184829712 seconds.\n",
      "Total elapsed time: 105.34145402908325 seconds.\n"
     ]
    }
   ],
   "source": [
    "from sklearn.model_selection import cross_val_score\n",
    "from sklearn.metrics import accuracy_score, recall_score, precision_score, f1_score\n",
    "\n",
    "def processSubset(feature_set):\n",
    "    # Fit model on feature_set and calculate cross-validated F1-score\n",
    "    model = LogisticRegression()\n",
    "    f1 = cross_val_score(model, X_train[list(feature_set)], y_train, cv=5, scoring='f1').mean()\n",
    "    return {\"model\": model, \"features\": feature_set, \"f1_score\": f1}\n",
    "\n",
    "def forward(predictors):\n",
    "    remaining_predictors = [p for p in X_train.columns if p not in predictors]\n",
    "    tic = time.time()\n",
    "    results = []\n",
    "    \n",
    "    for p in remaining_predictors:\n",
    "        results.append(processSubset(predictors+[p]))\n",
    "    \n",
    "    models = pd.DataFrame(results)\n",
    "    best_model = models.loc[models['f1_score'].idxmax()]\n",
    "    \n",
    "    toc = time.time()\n",
    "    print(\"Processed \", models.shape[0], \"models on\", len(predictors)+1, \"predictors in\", (toc-tic), \"seconds.\")\n",
    "    \n",
    "    return best_model\n",
    "\n",
    "models_fwd = pd.DataFrame(columns=[\"f1_score\", \"model\", \"features\"])\n",
    "\n",
    "tic = time.time()\n",
    "predictors = []\n",
    "\n",
    "for i in range(1, len(X_train.columns) + 1):\n",
    "    best_model = forward(predictors)\n",
    "    if models_fwd.empty or best_model['f1_score'] > models_fwd.iloc[-1]['f1_score']:\n",
    "        models_fwd.loc[i] = best_model\n",
    "        predictors = list(best_model[\"features\"])\n",
    "    else:\n",
    "        break  # Break if no improvement\n",
    "\n",
    "toc = time.time()\n",
    "print(\"Total elapsed time:\", (toc-tic), \"seconds.\")"
   ]
  },
  {
   "cell_type": "code",
   "execution_count": 11,
   "metadata": {},
   "outputs": [],
   "source": [
    "best_features = models_fwd.iloc[-1]['features']\n",
    "best_model = models_fwd.loc[2, \"model\"].fit(X_train[best_features],y_train)\n",
    "predictions = best_model.predict(X_test[best_features])\n",
    "f1 = f1_score(y_test, predictions)\n",
    "accuracy = accuracy_score(y_test, predictions)\n",
    "recall = recall_score(y_test, predictions)\n",
    "precision = precision_score(y_test, predictions)"
   ]
  },
  {
   "cell_type": "code",
   "execution_count": 13,
   "metadata": {},
   "outputs": [
    {
     "name": "stdout",
     "output_type": "stream",
     "text": [
      "Accuracy: 0.9574397888485648\n",
      "Precision: 0.09090909090909091\n",
      "Recall: 0.029411764705882353\n",
      "F1 Score: 0.04444444444444444\n"
     ]
    }
   ],
   "source": [
    "print(f\"Accuracy: {accuracy}\")\n",
    "print(f\"Precision: {precision}\")\n",
    "print(f\"Recall: {recall}\")\n",
    "print(f\"F1 Score: {f1}\")"
   ]
  }
 ],
 "metadata": {
  "kernelspec": {
   "display_name": "base",
   "language": "python",
   "name": "python3"
  },
  "language_info": {
   "codemirror_mode": {
    "name": "ipython",
    "version": 3
   },
   "file_extension": ".py",
   "mimetype": "text/x-python",
   "name": "python",
   "nbconvert_exporter": "python",
   "pygments_lexer": "ipython3",
   "version": "3.11.3"
  }
 },
 "nbformat": 4,
 "nbformat_minor": 2
}
